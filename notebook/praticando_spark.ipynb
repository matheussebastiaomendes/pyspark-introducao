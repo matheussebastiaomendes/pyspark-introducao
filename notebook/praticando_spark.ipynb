{
 "cells": [
  {
   "cell_type": "markdown",
   "id": "3abd2cdd-b542-4e0c-89aa-4b95776f8047",
   "metadata": {},
   "source": [
    "# Configurando e criando sessao spark"
   ]
  },
  {
   "cell_type": "code",
   "execution_count": 2,
   "id": "65a52cf3-db65-4174-991d-d695406fe0b0",
   "metadata": {},
   "outputs": [],
   "source": [
    "#Configuração variavel de ambiente\n",
    "import os\n",
    "\n",
    "os.environ['SPARK_HOME'] = 'C:\\spark-3.5.3-bin-hadoop3' "
   ]
  },
  {
   "cell_type": "code",
   "execution_count": 3,
   "id": "e1415d7d-429f-486c-93c7-5d422ea56a1e",
   "metadata": {},
   "outputs": [],
   "source": [
    "#Encontrar o spark na maquina\n",
    "\n",
    "import findspark\n",
    "findspark.init()"
   ]
  },
  {
   "cell_type": "code",
   "execution_count": 4,
   "id": "05c29439-a735-4f0a-87d7-a58c3accfbbb",
   "metadata": {},
   "outputs": [],
   "source": [
    "from pyspark.sql import SparkSession\n",
    "from pyspark.sql.functions import *"
   ]
  },
  {
   "cell_type": "code",
   "execution_count": 5,
   "id": "04bc0431-4713-4f77-9651-3a1f751ebb7d",
   "metadata": {},
   "outputs": [],
   "source": [
    "#Criar a sessao no spark session\n",
    "\n",
    "spark = SparkSession.builder\\\n",
    "                    .appName('Praticando-Pyspark')\\\n",
    "                    .master('local[*]')\\\n",
    "                    .getOrCreate()"
   ]
  },
  {
   "cell_type": "code",
   "execution_count": 6,
   "id": "7c1023de-f3cb-40d7-8c49-c66931a90d99",
   "metadata": {},
   "outputs": [
    {
     "data": {
      "text/html": [
       "\n",
       "            <div>\n",
       "                <p><b>SparkSession - in-memory</b></p>\n",
       "                \n",
       "        <div>\n",
       "            <p><b>SparkContext</b></p>\n",
       "\n",
       "            <p><a href=\"http://host.docker.internal:4040\">Spark UI</a></p>\n",
       "\n",
       "            <dl>\n",
       "              <dt>Version</dt>\n",
       "                <dd><code>v3.5.3</code></dd>\n",
       "              <dt>Master</dt>\n",
       "                <dd><code>local[*]</code></dd>\n",
       "              <dt>AppName</dt>\n",
       "                <dd><code>Praticando-Pyspark</code></dd>\n",
       "            </dl>\n",
       "        </div>\n",
       "        \n",
       "            </div>\n",
       "        "
      ],
      "text/plain": [
       "<pyspark.sql.session.SparkSession at 0x1ec4ead3fd0>"
      ]
     },
     "execution_count": 6,
     "metadata": {},
     "output_type": "execute_result"
    }
   ],
   "source": [
    "spark"
   ]
  },
  {
   "cell_type": "markdown",
   "id": "1c769d39-cc61-42a2-b884-510c39b3b01c",
   "metadata": {},
   "source": [
    "# Carregando e conhecendo os datasets"
   ]
  },
  {
   "cell_type": "code",
   "execution_count": 7,
   "id": "1fbfeca6-9da3-486f-8310-358ba807ce92",
   "metadata": {},
   "outputs": [],
   "source": [
    "df_pedidos = spark.read.csv('orders_dataset.csv', header = True, inferSchema = True)\n",
    "df_pagamentos = spark.read.csv('payments_dataset.csv', header = True, inferSchema = True)\n",
    "df_produtos = spark.read.csv('products_dataset.csv', header = True, inferSchema = True)\n",
    "df_sellers = spark.read.csv('sellers_dataset.csv', header = True, inferSchema = True)\n",
    "df_clientes = spark.read.csv('customers_dataset.csv', header = True, inferSchema = True)\n",
    "df_itens_pedido = spark.read.csv('order_items_dataset.csv', header = True, inferSchema = True)"
   ]
  },
  {
   "cell_type": "code",
   "execution_count": 8,
   "id": "4c5a1459-9d0d-4b17-9863-2c5bc151ee86",
   "metadata": {},
   "outputs": [
    {
     "name": "stdout",
     "output_type": "stream",
     "text": [
      "Esquema do DataFrame: Pedidos\n",
      "root\n",
      " |-- order_id: string (nullable = true)\n",
      " |-- customer_id: string (nullable = true)\n",
      " |-- order_status: string (nullable = true)\n",
      " |-- order_purchase_timestamp: timestamp (nullable = true)\n",
      " |-- order_approved_at: timestamp (nullable = true)\n",
      " |-- order_delivered_carrier_date: timestamp (nullable = true)\n",
      " |-- order_delivered_customer_date: timestamp (nullable = true)\n",
      " |-- order_estimated_delivery_date: timestamp (nullable = true)\n",
      "\n",
      "----------------------------------------\n",
      "Esquema do DataFrame: Pagamentos\n",
      "root\n",
      " |-- order_id: string (nullable = true)\n",
      " |-- payment_sequential: integer (nullable = true)\n",
      " |-- payment_type: string (nullable = true)\n",
      " |-- payment_installments: integer (nullable = true)\n",
      " |-- payment_value: double (nullable = true)\n",
      "\n",
      "----------------------------------------\n",
      "Esquema do DataFrame: Produtos\n",
      "root\n",
      " |-- product_id: string (nullable = true)\n",
      " |-- product_category_name: string (nullable = true)\n",
      " |-- product_name_lenght: integer (nullable = true)\n",
      " |-- product_description_lenght: integer (nullable = true)\n",
      " |-- product_photos_qty: integer (nullable = true)\n",
      " |-- product_weight_g: integer (nullable = true)\n",
      " |-- product_length_cm: integer (nullable = true)\n",
      " |-- product_height_cm: integer (nullable = true)\n",
      " |-- product_width_cm: integer (nullable = true)\n",
      "\n",
      "----------------------------------------\n",
      "Esquema do DataFrame: Sellers\n",
      "root\n",
      " |-- seller_id: string (nullable = true)\n",
      " |-- seller_zip_code_prefix: integer (nullable = true)\n",
      " |-- seller_city: string (nullable = true)\n",
      " |-- seller_state: string (nullable = true)\n",
      "\n",
      "----------------------------------------\n",
      "Esquema do DataFrame: Clientes\n",
      "root\n",
      " |-- customer_id: string (nullable = true)\n",
      " |-- customer_unique_id: string (nullable = true)\n",
      " |-- customer_zip_code_prefix: integer (nullable = true)\n",
      " |-- customer_city: string (nullable = true)\n",
      " |-- customer_state: string (nullable = true)\n",
      "\n",
      "----------------------------------------\n",
      "Esquema do DataFrame: itens_do_pedido\n",
      "root\n",
      " |-- order_id: string (nullable = true)\n",
      " |-- order_item_id: integer (nullable = true)\n",
      " |-- product_id: string (nullable = true)\n",
      " |-- seller_id: string (nullable = true)\n",
      " |-- shipping_limit_date: timestamp (nullable = true)\n",
      " |-- price: double (nullable = true)\n",
      " |-- freight_value: double (nullable = true)\n",
      "\n",
      "----------------------------------------\n"
     ]
    }
   ],
   "source": [
    "# Conferindo o tipo de dados de cada dataset\n",
    "datasets = [\n",
    "    (\"Pedidos\", df_pedidos),\n",
    "    (\"Pagamentos\", df_pagamentos),\n",
    "    (\"Produtos\", df_produtos),\n",
    "    (\"Sellers\", df_sellers),\n",
    "    (\"Clientes\", df_clientes),\n",
    "    (\"itens_do_pedido\",df_itens_pedido)\n",
    "]\n",
    "\n",
    "for name, df in datasets:\n",
    "    print(f\"Esquema do DataFrame: {name}\")\n",
    "    df.printSchema()\n",
    "    print(\"-\" * 40)\n"
   ]
  },
  {
   "cell_type": "code",
   "execution_count": 9,
   "id": "bb412bb1-a8a5-40f5-a9ec-695220b29846",
   "metadata": {},
   "outputs": [
    {
     "data": {
      "text/plain": [
       "order_id                            0\n",
       "customer_id                         0\n",
       "order_status                        0\n",
       "order_purchase_timestamp            0\n",
       "order_approved_at                 160\n",
       "order_delivered_carrier_date     1783\n",
       "order_delivered_customer_date    2965\n",
       "order_estimated_delivery_date       0\n",
       "dtype: int64"
      ]
     },
     "execution_count": 9,
     "metadata": {},
     "output_type": "execute_result"
    }
   ],
   "source": [
    "df_pedidos.toPandas().isnull().sum()"
   ]
  },
  {
   "cell_type": "code",
   "execution_count": 10,
   "id": "1d7a0daa-1ce3-4788-844e-2bcfea2190ec",
   "metadata": {},
   "outputs": [],
   "source": [
    "# Renomear colunas \n",
    "\n",
    "df_pedidos = df_pedidos.withColumnRenamed('order_id','id_order')\\\n",
    ".withColumnRenamed('customer_id','id_customer').withColumnRenamed('order_status','status').withColumnRenamed('order_purchase_timestamp','order_purchase_time')"
   ]
  },
  {
   "cell_type": "markdown",
   "id": "a70cde41-43e0-4d1a-bfa6-dd8adf4f1c3f",
   "metadata": {},
   "source": [
    "# Filtros"
   ]
  },
  {
   "cell_type": "code",
   "execution_count": 11,
   "id": "82eb83d0-05fb-4b14-a6de-eec1116ebe21",
   "metadata": {},
   "outputs": [
    {
     "name": "stdout",
     "output_type": "stream",
     "text": [
      "+--------------------+---------------------+-------------------+--------------------------+------------------+----------------+-----------------+-----------------+----------------+\n",
      "|          product_id|product_category_name|product_name_lenght|product_description_lenght|product_photos_qty|product_weight_g|product_length_cm|product_height_cm|product_width_cm|\n",
      "+--------------------+---------------------+-------------------+--------------------------+------------------+----------------+-----------------+-----------------+----------------+\n",
      "|8c92109888e8cdf9d...|           brinquedos|                 36|                      1156|                 1|             600|               17|               10|              12|\n",
      "|1c6fb703c624b381a...|           brinquedos|                 33|                       471|                 2|             725|               22|               17|              15|\n",
      "|83b9bc6aae6f527ff...|           brinquedos|                 20|                       866|                 3|            2550|               22|               32|              38|\n",
      "|0d826eba8e0a2ae3b...|           brinquedos|                 50|                       423|                 4|             250|               20|               14|              12|\n",
      "|484bf1dff778a4163...|           brinquedos|                 55|                       852|                 1|             350|               21|                9|              16|\n",
      "+--------------------+---------------------+-------------------+--------------------------+------------------+----------------+-----------------+-----------------+----------------+\n",
      "only showing top 5 rows\n",
      "\n"
     ]
    }
   ],
   "source": [
    "#Filtros\n",
    "\n",
    "# Filtro simples\n",
    "df_produtos.filter(\"product_category_name == 'brinquedos'\").show(5)"
   ]
  },
  {
   "cell_type": "code",
   "execution_count": 12,
   "id": "bd6c1863-2ab6-4596-970a-52f96021a039",
   "metadata": {},
   "outputs": [
    {
     "name": "stdout",
     "output_type": "stream",
     "text": [
      "+--------------------+---------------------+-------------------+--------------------------+------------------+----------------+-----------------+-----------------+----------------+\n",
      "|          product_id|product_category_name|product_name_lenght|product_description_lenght|product_photos_qty|product_weight_g|product_length_cm|product_height_cm|product_width_cm|\n",
      "+--------------------+---------------------+-------------------+--------------------------+------------------+----------------+-----------------+-----------------+----------------+\n",
      "|8c92109888e8cdf9d...|           brinquedos|                 36|                      1156|                 1|             600|               17|               10|              12|\n",
      "|1c6fb703c624b381a...|           brinquedos|                 33|                       471|                 2|             725|               22|               17|              15|\n",
      "|83b9bc6aae6f527ff...|           brinquedos|                 20|                       866|                 3|            2550|               22|               32|              38|\n",
      "|19502a282608c5627...|           brinquedos|                 47|                       181|                 1|           11650|               55|               30|              30|\n",
      "|657491063e8a63247...|           brinquedos|                 25|                       274|                 1|            3050|               40|               10|              40|\n",
      "+--------------------+---------------------+-------------------+--------------------------+------------------+----------------+-----------------+-----------------+----------------+\n",
      "only showing top 5 rows\n",
      "\n"
     ]
    }
   ],
   "source": [
    "# Filtro com e\n",
    "\n",
    "df_produtos.filter((col('product_category_name') == 'brinquedos') & (col('product_weight_g') > 500)).show(5)"
   ]
  },
  {
   "cell_type": "code",
   "execution_count": 13,
   "id": "7f910299-1525-4451-8c58-e16fa882a95e",
   "metadata": {},
   "outputs": [
    {
     "name": "stdout",
     "output_type": "stream",
     "text": [
      "+--------------------+---------------------+-------------------+--------------------------+------------------+----------------+-----------------+-----------------+----------------+\n",
      "|          product_id|product_category_name|product_name_lenght|product_description_lenght|product_photos_qty|product_weight_g|product_length_cm|product_height_cm|product_width_cm|\n",
      "+--------------------+---------------------+-------------------+--------------------------+------------------+----------------+-----------------+-----------------+----------------+\n",
      "|1e9e8ef04dbcff454...|           perfumaria|                 40|                       287|                 1|             225|               16|               10|              14|\n",
      "|8c92109888e8cdf9d...|           brinquedos|                 36|                      1156|                 1|             600|               17|               10|              12|\n",
      "|6a2fb4dd53d2cdb88...|           perfumaria|                 39|                       346|                 2|             400|               27|                5|              20|\n",
      "|1c6fb703c624b381a...|           brinquedos|                 33|                       471|                 2|             725|               22|               17|              15|\n",
      "|83b9bc6aae6f527ff...|           brinquedos|                 20|                       866|                 3|            2550|               22|               32|              38|\n",
      "+--------------------+---------------------+-------------------+--------------------------+------------------+----------------+-----------------+-----------------+----------------+\n",
      "only showing top 5 rows\n",
      "\n"
     ]
    }
   ],
   "source": [
    "# Filtro com ou\n",
    "\n",
    "df_produtos.filter((col('product_category_name') == 'brinquedos') | (col('product_category_name') == 'perfumaria')).show(5)"
   ]
  },
  {
   "cell_type": "markdown",
   "id": "fde1a2dc-e681-437f-a777-26e346305385",
   "metadata": {},
   "source": [
    "# Criar colunas"
   ]
  },
  {
   "cell_type": "code",
   "execution_count": 14,
   "id": "6ff6872d-8737-415b-b7b7-0d791888cd89",
   "metadata": {},
   "outputs": [
    {
     "name": "stdout",
     "output_type": "stream",
     "text": [
      "+----------+\n",
      "|ano_compra|\n",
      "+----------+\n",
      "|      2017|\n",
      "|      2018|\n",
      "|      2018|\n",
      "|      2017|\n",
      "+----------+\n",
      "only showing top 4 rows\n",
      "\n"
     ]
    }
   ],
   "source": [
    "# Criando colunas\n",
    "\n",
    "#Extraindo o ano da compra\n",
    "df_pedidos = df_pedidos.withColumn('ano_compra',substring('order_purchase_time',1,4))\n",
    "\n",
    "df_pedidos.select('ano_compra').show(4)"
   ]
  },
  {
   "cell_type": "code",
   "execution_count": 15,
   "id": "782e877b-04b9-4004-ad36-6a878cd032ef",
   "metadata": {},
   "outputs": [],
   "source": [
    "from pyspark.sql.types import *\n",
    "from pyspark.sql import functions as sf\n",
    "\n",
    "#Extraindo a data da compra \n",
    "df_pedidos = df_pedidos.withColumn('data_compra',col('order_purchase_time').cast(DateType()))\n",
    "\n",
    "#Entendendo o tempo da compra até o pedido chegar\n",
    "df_pedidos = df_pedidos.withColumn('dias_compra_ate_chegar',datediff(col('order_delivered_customer_date'),col('order_purchase_time')))\n",
    "\n"
   ]
  },
  {
   "cell_type": "code",
   "execution_count": 16,
   "id": "2e29fcc4-2252-4ec1-aec0-175cd2c36363",
   "metadata": {},
   "outputs": [
    {
     "name": "stdout",
     "output_type": "stream",
     "text": [
      "+-----------+----------------------+\n",
      "|data_compra|dias_compra_ate_chegar|\n",
      "+-----------+----------------------+\n",
      "| 2017-10-02|                     8|\n",
      "| 2018-07-24|                    14|\n",
      "| 2018-08-08|                     9|\n",
      "| 2017-11-18|                    14|\n",
      "+-----------+----------------------+\n",
      "only showing top 4 rows\n",
      "\n"
     ]
    }
   ],
   "source": [
    "df_pedidos.select('data_compra','dias_compra_ate_chegar').show(4)"
   ]
  },
  {
   "cell_type": "markdown",
   "id": "9748da66-aad7-4e65-afb4-04dd30d1aca8",
   "metadata": {},
   "source": [
    "# EDA"
   ]
  },
  {
   "cell_type": "code",
   "execution_count": 17,
   "id": "5a1801d8-3ef6-4e89-80cc-71a20836db80",
   "metadata": {},
   "outputs": [
    {
     "data": {
      "text/plain": [
       "74"
      ]
     },
     "execution_count": 17,
     "metadata": {},
     "output_type": "execute_result"
    }
   ],
   "source": [
    "# Quantidade de categorias de produtos\n",
    "\n",
    "df_produtos.select('product_category_name').distinct().count()"
   ]
  },
  {
   "cell_type": "code",
   "execution_count": 18,
   "id": "af20587a-4207-4039-9918-086cf3426d14",
   "metadata": {},
   "outputs": [],
   "source": [
    "df_pedidos_pagamentos = df_pedidos.join(df_pagamentos, df_pedidos['id_order'] == df_pagamentos['order_id'], 'inner')"
   ]
  },
  {
   "cell_type": "code",
   "execution_count": 19,
   "id": "9366bb28-7e25-4418-aa3f-cb3e66be9332",
   "metadata": {},
   "outputs": [
    {
     "name": "stdout",
     "output_type": "stream",
     "text": [
      "+------------+--------------------------------+\n",
      "|payment_type|soma_valor_por_tipo_de_pagamento|\n",
      "+------------+--------------------------------+\n",
      "| credit_card|            1.2542084189999647E7|\n",
      "|      boleto|              2869361.2700000196|\n",
      "|     voucher|               379436.8700000001|\n",
      "|  debit_card|              217989.79000000015|\n",
      "| not_defined|                             0.0|\n",
      "+------------+--------------------------------+\n",
      "\n"
     ]
    }
   ],
   "source": [
    "#Metodos de pagamentos com maior representatividade em valor\n",
    "\n",
    "df_pedidos_pagamentos.groupby('payment_type').agg(sum(col('payment_value')).alias('soma_valor_por_tipo_de_pagamento')).orderBy('soma_valor_por_tipo_de_pagamento', ascending = False).show()"
   ]
  },
  {
   "cell_type": "code",
   "execution_count": 20,
   "id": "5a659e5e-a37a-41d2-bf79-a7e9b031c5f6",
   "metadata": {},
   "outputs": [
    {
     "name": "stdout",
     "output_type": "stream",
     "text": [
      "+------------+---------------------------+\n",
      "|payment_type|tkm_por_metodo_de_pagamento|\n",
      "+------------+---------------------------+\n",
      "| credit_card|         163.31902063935996|\n",
      "|      boleto|         145.03443540234633|\n",
      "|  debit_card|         142.57017004578165|\n",
      "|     voucher|          65.70335411255414|\n",
      "| not_defined|                        0.0|\n",
      "+------------+---------------------------+\n",
      "\n"
     ]
    }
   ],
   "source": [
    "#Ticket medio por metodo de pagamento\n",
    "\n",
    "df_pedidos_pagamentos.groupby('payment_type').agg((sum('payment_value') / count('id_order')).alias('tkm_por_metodo_de_pagamento')).orderBy('tkm_por_metodo_de_pagamento', ascending = False).show()"
   ]
  },
  {
   "cell_type": "code",
   "execution_count": 21,
   "id": "402face6-3605-4dc3-bc20-364576267406",
   "metadata": {},
   "outputs": [
    {
     "data": {
      "text/plain": [
       "99441"
      ]
     },
     "execution_count": 21,
     "metadata": {},
     "output_type": "execute_result"
    }
   ],
   "source": [
    "# Quantos clientes fizeram pedidos ?\n",
    "\n",
    "df_pedidos.filter(df_pedidos.id_customer.isNotNull()).select('id_customer').distinct().count()"
   ]
  },
  {
   "cell_type": "code",
   "execution_count": 22,
   "id": "f53a595f-5093-4763-9f9a-147a6b90cac7",
   "metadata": {},
   "outputs": [],
   "source": [
    "# Qual a distribuição geografica dos clientes\n",
    "\n",
    "df_clientes_pedidos = df_pedidos_pagamentos.join(df_clientes,  df_clientes['customer_id'] == df_pedidos_pagamentos['id_customer'], 'left') "
   ]
  },
  {
   "cell_type": "code",
   "execution_count": 23,
   "id": "8d1729b0-b74a-420a-bec4-1b31c194bc1b",
   "metadata": {},
   "outputs": [
    {
     "name": "stdout",
     "output_type": "stream",
     "text": [
      "+--------------------+-----+\n",
      "|       customer_city|count|\n",
      "+--------------------+-----+\n",
      "|           sao paulo|16221|\n",
      "|      rio de janeiro| 7207|\n",
      "|      belo horizonte| 2872|\n",
      "|            brasilia| 2193|\n",
      "|            curitiba| 1576|\n",
      "|            campinas| 1515|\n",
      "|        porto alegre| 1418|\n",
      "|            salvador| 1347|\n",
      "|           guarulhos| 1250|\n",
      "|sao bernardo do c...|  979|\n",
      "|             niteroi|  915|\n",
      "|         santo andre|  820|\n",
      "|              osasco|  783|\n",
      "|             goiania|  741|\n",
      "|              santos|  733|\n",
      "| sao jose dos campos|  729|\n",
      "|           fortaleza|  683|\n",
      "|            sorocaba|  657|\n",
      "|              recife|  639|\n",
      "|             jundiai|  593|\n",
      "+--------------------+-----+\n",
      "only showing top 20 rows\n",
      "\n"
     ]
    }
   ],
   "source": [
    "df_clientes_pedidos.groupby('customer_city').count().orderBy('count', ascending=False).show()"
   ]
  },
  {
   "cell_type": "code",
   "execution_count": 24,
   "id": "0565c63e-4728-4597-9143-6094ea1f03b0",
   "metadata": {},
   "outputs": [
    {
     "data": {
      "text/plain": [
       "103886"
      ]
     },
     "execution_count": 24,
     "metadata": {},
     "output_type": "execute_result"
    }
   ],
   "source": [
    "# Taxa de clientes que repetiram a compra\n",
    "\n",
    "df_clientes_pedidos.filter(df_clientes_pedidos.id_order.isNotNull()).select('id_order').count()"
   ]
  },
  {
   "cell_type": "code",
   "execution_count": 25,
   "id": "db814e59-ae64-4532-8aa8-14d0973b21c9",
   "metadata": {},
   "outputs": [
    {
     "data": {
      "text/plain": [
       "1.0446998722860792"
      ]
     },
     "execution_count": 25,
     "metadata": {},
     "output_type": "execute_result"
    }
   ],
   "source": [
    "# Taxa de pedidos por clientes\n",
    "\n",
    "df_clientes_pedidos.filter(df_clientes_pedidos.id_order.isNotNull()).select('id_order').count()  /  df_pedidos.filter(df_pedidos.id_customer.isNotNull()).select('id_customer').distinct().count()"
   ]
  },
  {
   "cell_type": "code",
   "execution_count": 26,
   "id": "294f9dd4-52ee-4a70-a55c-8c474aa1b50f",
   "metadata": {},
   "outputs": [],
   "source": [
    "# Os produtos mais vendidos\n",
    "\n",
    "df_produtos  = df_produtos.withColumnRenamed('product_id','id_produto')\n",
    "df_pedidos_produtos = df_itens_pedido.join(df_produtos, df_itens_pedido['product_id'] == df_produtos['id_produto'], 'left')"
   ]
  },
  {
   "cell_type": "code",
   "execution_count": 27,
   "id": "0ca13325-e8cc-4975-a7d4-27af7e9c92fa",
   "metadata": {},
   "outputs": [
    {
     "name": "stdout",
     "output_type": "stream",
     "text": [
      "+--------------------+---------------------+-----+\n",
      "|          product_id|product_category_name|count|\n",
      "+--------------------+---------------------+-----+\n",
      "|aca2eb7d00ea1a7b8...|     moveis_decoracao|  527|\n",
      "|99a4788cb24856965...|      cama_mesa_banho|  488|\n",
      "|422879e10f4668299...|   ferramentas_jardim|  484|\n",
      "|389d119b48cf3043d...|   ferramentas_jardim|  392|\n",
      "|368c6c730842d7801...|   ferramentas_jardim|  388|\n",
      "|53759a2ecddad2bb8...|   ferramentas_jardim|  373|\n",
      "|d1c427060a0f73f6b...| informatica_acess...|  343|\n",
      "|53b36df67ebb7c415...|   relogios_presentes|  323|\n",
      "|154e7e31ebfa09220...|         beleza_saude|  281|\n",
      "|3dd2a17168ec895c7...| informatica_acess...|  274|\n",
      "|2b4609f8948be1887...|         beleza_saude|  260|\n",
      "|7c1bd920dbdf22470...|         beleza_saude|  231|\n",
      "|a62e25e09e05e6faf...|   relogios_presentes|  226|\n",
      "|5a848e4ab52fd5445...|                 NULL|  197|\n",
      "|bb50f2e236e5eea01...|         beleza_saude|  195|\n",
      "|e0d64dcfaa3b6db5c...|   relogios_presentes|  194|\n",
      "|42a2c92a0979a949c...| utilidades_domest...|  183|\n",
      "|e53e557d5a159f5aa...| informatica_acess...|  183|\n",
      "|b532349fe46b38fbc...|     moveis_decoracao|  169|\n",
      "|35afc973633aaeb6b...|        casa_conforto|  165|\n",
      "+--------------------+---------------------+-----+\n",
      "only showing top 20 rows\n",
      "\n"
     ]
    }
   ],
   "source": [
    "df_pedidos_produtos.groupby('product_id','product_category_name').count().orderBy('count', ascending=False).show()"
   ]
  },
  {
   "cell_type": "code",
   "execution_count": 28,
   "id": "4609ba84-04c5-4f63-af7d-e2e2b87c194a",
   "metadata": {},
   "outputs": [
    {
     "data": {
      "text/plain": [
       "['id_order',\n",
       " 'id_customer',\n",
       " 'status',\n",
       " 'order_purchase_time',\n",
       " 'order_approved_at',\n",
       " 'order_delivered_carrier_date',\n",
       " 'order_delivered_customer_date',\n",
       " 'order_estimated_delivery_date',\n",
       " 'ano_compra',\n",
       " 'data_compra',\n",
       " 'dias_compra_ate_chegar',\n",
       " 'order_id',\n",
       " 'payment_sequential',\n",
       " 'payment_type',\n",
       " 'payment_installments',\n",
       " 'payment_value',\n",
       " 'customer_id',\n",
       " 'customer_unique_id',\n",
       " 'customer_zip_code_prefix',\n",
       " 'customer_city',\n",
       " 'customer_state']"
      ]
     },
     "execution_count": 28,
     "metadata": {},
     "output_type": "execute_result"
    }
   ],
   "source": [
    "df_clientes_pedidos.columns"
   ]
  },
  {
   "cell_type": "code",
   "execution_count": 29,
   "id": "90931a6c-99a6-49df-bee5-22a4d8a6ffac",
   "metadata": {},
   "outputs": [
    {
     "name": "stdout",
     "output_type": "stream",
     "text": [
      "+------------------+---------------------+\n",
      "|product_photos_qty|Quantidade de pedidos|\n",
      "+------------------+---------------------+\n",
      "|                 1|                56028|\n",
      "|                 2|                21963|\n",
      "|                 3|                12392|\n",
      "|                 4|                 8437|\n",
      "|                 5|                 5368|\n",
      "|                 6|                 3786|\n",
      "|              NULL|                 1603|\n",
      "|                 7|                 1501|\n",
      "|                 8|                  727|\n",
      "|                10|                  342|\n",
      "|                 9|                  313|\n",
      "|                11|                   71|\n",
      "|                12|                   53|\n",
      "|                13|                   30|\n",
      "|                15|                   12|\n",
      "|                17|                   11|\n",
      "|                14|                    6|\n",
      "|                18|                    4|\n",
      "|                19|                    2|\n",
      "|                20|                    1|\n",
      "+------------------+---------------------+\n",
      "\n"
     ]
    }
   ],
   "source": [
    "# Quantidade de pedidos por quantidade de fotos\n",
    "\n",
    "df_pedidos_produtos.groupby('product_photos_qty').agg(count(col('order_id')).alias('Quantidade de pedidos')).orderBy('Quantidade de pedidos', ascending = False).show()"
   ]
  },
  {
   "cell_type": "code",
   "execution_count": 30,
   "id": "786cb85f-2f90-4dc6-a393-7b69c9d72bcf",
   "metadata": {},
   "outputs": [
    {
     "name": "stdout",
     "output_type": "stream",
     "text": [
      "+------------------+-------------------------+\n",
      "|product_photos_qty|valor_total_por_qtd_fotos|\n",
      "+------------------+-------------------------+\n",
      "|                 1|       6371606.6199994655|\n",
      "|                 2|        2449270.980000071|\n",
      "|                 3|       1683253.4800000067|\n",
      "|                 4|       1228562.2599999951|\n",
      "|                 5|        728390.6399999927|\n",
      "|                 6|        499489.7499999988|\n",
      "|                 7|       238081.86000000016|\n",
      "|              NULL|       179535.28000000032|\n",
      "|                 8|       108374.97000000004|\n",
      "|                10|        51516.76999999996|\n",
      "|                 9|       40301.869999999966|\n",
      "|                11|                  5342.27|\n",
      "|                12|       2551.9799999999996|\n",
      "|                14|                  1500.87|\n",
      "|                13|                  1236.78|\n",
      "|                15|                  1043.77|\n",
      "|                17|                    841.0|\n",
      "|                18|                    354.4|\n",
      "|                19|                   277.88|\n",
      "|                20|                   110.27|\n",
      "+------------------+-------------------------+\n",
      "\n"
     ]
    }
   ],
   "source": [
    "#  Valor dos pedidos por quantidade de fotos\n",
    "\n",
    "df_pedidos_produtos.groupby('product_photos_qty').agg((sum(col('price'))).alias('valor_total_por_qtd_fotos')).orderBy('valor_total_por_qtd_fotos', ascending = False).show()"
   ]
  },
  {
   "cell_type": "code",
   "execution_count": 31,
   "id": "6deddef2-e193-48d4-a1e4-0ea9a14d53b8",
   "metadata": {},
   "outputs": [
    {
     "name": "stdout",
     "output_type": "stream",
     "text": [
      "+------------------+-------------------------+\n",
      "|product_photos_qty|valor_total_por_qtd_fotos|\n",
      "+------------------+-------------------------+\n",
      "|                14|       250.14499999999998|\n",
      "|                 7|       158.61549633577624|\n",
      "|                10|       150.63383040935662|\n",
      "|                 8|       149.07148555708397|\n",
      "|                 4|        145.6160080597363|\n",
      "|                19|                   138.94|\n",
      "|                 3|       135.83388315042018|\n",
      "|                 5|       135.69125186288986|\n",
      "|                 6|       131.93073164289456|\n",
      "|                 9|        128.7599680511181|\n",
      "|                 1|       113.72182872848336|\n",
      "|              NULL|       111.99955084217113|\n",
      "|                 2|       111.51805217866736|\n",
      "|                20|                   110.27|\n",
      "|                18|                     88.6|\n",
      "|                15|        86.98083333333334|\n",
      "|                17|        76.45454545454545|\n",
      "|                11|        75.24323943661973|\n",
      "|                12|        48.15056603773584|\n",
      "|                13|                   41.226|\n",
      "+------------------+-------------------------+\n",
      "\n"
     ]
    }
   ],
   "source": [
    "# Ticket medio dos pedidos por quantidade de fotos\n",
    "df_pedidos_produtos.groupby('product_photos_qty').agg((sum(col('price')) / count(col('order_id'))).alias('valor_total_por_qtd_fotos')).orderBy('valor_total_por_qtd_fotos', ascending = False).show()"
   ]
  },
  {
   "cell_type": "code",
   "execution_count": 32,
   "id": "a6228950-8cee-470f-804e-20da45f0d659",
   "metadata": {},
   "outputs": [],
   "source": [
    "#Criando coluna do valor total (Preco dos itens + frete)\n",
    "\n",
    "df_pedidos_produtos = df_pedidos_produtos.withColumn('valor_total', col('price') + col('freight_value'))"
   ]
  },
  {
   "cell_type": "code",
   "execution_count": 33,
   "id": "4285bd8f-ad35-429b-b97a-83d3c7f1a418",
   "metadata": {},
   "outputs": [
    {
     "name": "stdout",
     "output_type": "stream",
     "text": [
      "+--------------------+------+-------------+------------------+\n",
      "|            order_id| price|freight_value|       valor_total|\n",
      "+--------------------+------+-------------+------------------+\n",
      "|00010242fe8c5a6d1...|  58.9|        13.29|             72.19|\n",
      "|00018f77f2f0320c5...| 239.9|        19.93|            259.83|\n",
      "|000229ec398224ef6...| 199.0|        17.87|            216.87|\n",
      "|00024acbcdf0a6daa...| 12.99|        12.79|             25.78|\n",
      "|00042b26cf59d7ce6...| 199.9|        18.14|218.04000000000002|\n",
      "|00048cc3ae777c65d...|  21.9|        12.69|34.589999999999996|\n",
      "|00054e8431b9d7675...|  19.9|        11.85|             31.75|\n",
      "|000576fe39319847c...| 810.0|        70.75|            880.75|\n",
      "|0005a1a1728c9d785...|145.95|        11.65|             157.6|\n",
      "|0005f50442cb953dc...| 53.99|         11.4|             65.39|\n",
      "|00061f2a7bc09da83...| 59.99|         8.88|             68.87|\n",
      "|00063b381e2406b52...|  45.0|        12.98|57.980000000000004|\n",
      "|0006ec9db01a64e59...|  74.0|        23.32|             97.32|\n",
      "|0008288aa423d2a3f...|  49.9|        13.37|63.269999999999996|\n",
      "|0008288aa423d2a3f...|  49.9|        13.37|63.269999999999996|\n",
      "|0009792311464db53...|  99.9|        27.65|127.55000000000001|\n",
      "|0009c9a17f916a706...| 639.0|        11.34|            650.34|\n",
      "|000aed2e25dbad2f9...| 144.0|         8.77|            152.77|\n",
      "|000c3e6612759851c...|  99.0|        13.71|112.71000000000001|\n",
      "|000e562887b1f2006...|  25.0|        16.11|             41.11|\n",
      "+--------------------+------+-------------+------------------+\n",
      "only showing top 20 rows\n",
      "\n"
     ]
    }
   ],
   "source": [
    "df_pedidos_produtos.select(col('order_id'),col('price'), col('freight_value'), col('valor_total')).show()"
   ]
  },
  {
   "cell_type": "code",
   "execution_count": 34,
   "id": "30f4994f-5c91-48a6-8956-cedc948ea4f6",
   "metadata": {},
   "outputs": [
    {
     "name": "stdout",
     "output_type": "stream",
     "text": [
      "+---------------------+-------------------------+\n",
      "|product_category_name|valor_total_venda_produto|\n",
      "+---------------------+-------------------------+\n",
      "|         beleza_saude|       1258681.3399999938|\n",
      "|   relogios_presentes|        1205005.679999998|\n",
      "|      cama_mesa_banho|       1036988.6799999807|\n",
      "|        esporte_lazer|        988048.9699999837|\n",
      "| informatica_acess...|         911954.319999988|\n",
      "|     moveis_decoracao|        729762.4899999866|\n",
      "|           cool_stuff|        635290.8499999974|\n",
      "| utilidades_domest...|        632248.6599999928|\n",
      "|           automotivo|         592720.109999997|\n",
      "|   ferramentas_jardim|       485256.45999999647|\n",
      "|           brinquedos|       483946.59999999864|\n",
      "|                bebes|       411764.88999999885|\n",
      "|           perfumaria|        399124.8699999997|\n",
      "|            telefonia|        323667.5300000011|\n",
      "|    moveis_escritorio|        273960.7000000001|\n",
      "|            papelaria|       230943.23000000085|\n",
      "|                  pcs|                222963.13|\n",
      "|             pet_shop|       214315.41000000038|\n",
      "| instrumentos_musi...|        191498.8800000002|\n",
      "|      eletroportateis|       190648.58000000007|\n",
      "+---------------------+-------------------------+\n",
      "only showing top 20 rows\n",
      "\n"
     ]
    }
   ],
   "source": [
    "# Categorias com maior representatividade de valor de vendas\n",
    "\n",
    "df_pedidos_produtos.groupby('product_category_name').agg(sum('price').alias('valor_total_venda_produto')).orderBy('valor_total_venda_produto' , ascending = False).show()"
   ]
  },
  {
   "cell_type": "code",
   "execution_count": 39,
   "id": "921635df-1fcc-4b48-aeb1-c96c7a1e3a6b",
   "metadata": {},
   "outputs": [],
   "source": [
    "# Estados com mais pedidos \n",
    "\n",
    "df_pedidos_por_estados = df_clientes_pedidos.groupby('customer_state').agg(count('id_order').alias('quantidade_de_pedidos')).orderBy('quantidade_de_pedidos' , ascending = False)"
   ]
  },
  {
   "cell_type": "code",
   "execution_count": 36,
   "id": "c7716000-372e-4026-a81b-4862961c2b8e",
   "metadata": {},
   "outputs": [],
   "source": [
    "nordeste = [\"AL\", \"BA\", \"CE\", \"MA\", \"PB\", \"PE\", \"PI\", \"RN\", \"SE\"]\n",
    "sudeste = [\"ES\", \"MG\", \"RJ\", \"SP\"]\n",
    "norte = [\"AC\", \"AP\", \"AM\", \"PA\", \"RO\", \"RR\", \"TO\"]\n",
    "sul = [\"PR\", \"RS\", \"SC\"]\n",
    "centro_oeste = [\"DF\", \"GO\", \"MT\", \"MS\"]"
   ]
  },
  {
   "cell_type": "code",
   "execution_count": 40,
   "id": "e85a0e4a-fd99-438a-a8c3-1ada0f42fd9d",
   "metadata": {},
   "outputs": [],
   "source": [
    "df_pedidos_por_estados = df_pedidos_por_estados.withColumn('regiao', when(col('customer_state').isin(nordeste),\"Nordeste\")\\\n",
    "                            .when(col('customer_state').isin(sul),\"Sul\")\\\n",
    "                            .when(col('customer_state').isin(norte),\"Norte\")\\\n",
    "                            .when(col('customer_state').isin(centro_oeste),\"Centro-oeste\")\\\n",
    "                            .when(col('customer_state').isin(sudeste),\"Sudeste\")\\\n",
    "                            .otherwise(\"Desconhecido\"))"
   ]
  },
  {
   "cell_type": "code",
   "execution_count": 41,
   "id": "1259044f-a708-455f-817d-88af2c0d1bc9",
   "metadata": {},
   "outputs": [
    {
     "name": "stdout",
     "output_type": "stream",
     "text": [
      "+------------+----------------+\n",
      "|      regiao|geral_por_regiao|\n",
      "+------------+----------------+\n",
      "|     Sudeste|           71358|\n",
      "|         Sul|           14684|\n",
      "|    Nordeste|            9907|\n",
      "|Centro-oeste|            6010|\n",
      "|       Norte|            1927|\n",
      "+------------+----------------+\n",
      "\n"
     ]
    }
   ],
   "source": [
    "# Regioes com mais pedidos\n",
    "\n",
    "df_pedidos_por_estados.groupby('regiao').agg(sum('quantidade_de_pedidos').alias('geral_por_regiao')).orderBy('geral_por_regiao', ascending = False).show()"
   ]
  }
 ],
 "metadata": {
  "kernelspec": {
   "display_name": "Python 3 (ipykernel)",
   "language": "python",
   "name": "python3"
  },
  "language_info": {
   "codemirror_mode": {
    "name": "ipython",
    "version": 3
   },
   "file_extension": ".py",
   "mimetype": "text/x-python",
   "name": "python",
   "nbconvert_exporter": "python",
   "pygments_lexer": "ipython3",
   "version": "3.11.7"
  }
 },
 "nbformat": 4,
 "nbformat_minor": 5
}
